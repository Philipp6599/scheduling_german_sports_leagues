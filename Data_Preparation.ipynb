{
 "cells": [
  {
   "cell_type": "markdown",
   "id": "7415b2b9",
   "metadata": {},
   "source": [
    "# Data Preparation\n",
    "\n",
    "This notebook does the first data preparation and adds the data points depending on game result."
   ]
  },
  {
   "cell_type": "code",
   "execution_count": 1,
   "id": "93973240",
   "metadata": {},
   "outputs": [],
   "source": [
    "import pandas as pd\n",
    "import numpy as np\n",
    "import csv"
   ]
  },
  {
   "cell_type": "code",
   "execution_count": 2,
   "id": "2a5fe0a6",
   "metadata": {},
   "outputs": [],
   "source": [
    "# read and prepare data \n",
    "df = pd.read_csv('results.csv', delimiter=\",\", quoting=csv.QUOTE_NONE, encoding='utf-8')\n",
    "df = df.drop('Unnamed: 0', axis=1)\n",
    "df = df.drop(307).drop(235).reset_index()\n",
    "df = df.drop(['home_goals_half','away_goals_half'], axis=1)\n",
    "df.loc[(df.index == 234),'matchweek']=27"
   ]
  },
  {
   "cell_type": "code",
   "execution_count": 3,
   "id": "3dbcdc63",
   "metadata": {},
   "outputs": [],
   "source": [
    "# 1 point for draw\n",
    "df.loc[df[\"home_goals\"] == df[\"away_goals\"], 'home_points'] = 1\n",
    "df.loc[df[\"home_goals\"] == df[\"away_goals\"], 'away_points'] = 1\n",
    "\n",
    "# 3 points for win \n",
    "df.loc[df[\"home_goals\"] > df[\"away_goals\"], 'home_points'] = 3\n",
    "df.loc[df[\"home_goals\"] < df[\"away_goals\"], 'away_points'] = 3\n",
    "\n",
    "# 0 points for loose\n",
    "df.loc[df[\"home_goals\"] > df[\"away_goals\"], 'away_points'] = 0\n",
    "df.loc[df[\"home_goals\"] < df[\"away_goals\"], 'home_points'] = 0"
   ]
  },
  {
   "cell_type": "code",
   "execution_count": 5,
   "id": "40490524",
   "metadata": {},
   "outputs": [],
   "source": [
    "# split df in 2 rounds\n",
    "df_hin = df[df['matchweek']<=17]\n",
    "df_rück = df[df['matchweek']>17]\n",
    "\n",
    "# sort games \n",
    "df_hin = df_hin.sort_values(by=['matchweek','home_team'])\n",
    "df_rück = df_rück.sort_values(by=['matchweek','away_team'])\n",
    "\n",
    "# combine dfs \n",
    "result = pd.concat([df_hin,df_rück]).reset_index()"
   ]
  },
  {
   "cell_type": "code",
   "execution_count": 6,
   "id": "960e2668",
   "metadata": {},
   "outputs": [],
   "source": [
    "# transform team names to numbers\n",
    "teams = result['home_team'].drop_duplicates().to_dict()\n",
    "\n",
    "for team in teams: \n",
    "    result.loc[result[\"home_team\"] == teams[team], 'home_team_number'] = team\n",
    "    result.loc[result[\"away_team\"] == teams[team], 'away_team_number'] = team"
   ]
  },
  {
   "cell_type": "code",
   "execution_count": 7,
   "id": "b4628d26",
   "metadata": {},
   "outputs": [],
   "source": [
    "# set game number for each game \n",
    "result = result.drop(['level_0'], axis=1)\n",
    "result['game_number'] = result.index"
   ]
  },
  {
   "cell_type": "code",
   "execution_count": 8,
   "id": "24621cd7",
   "metadata": {},
   "outputs": [],
   "source": [
    "result.to_csv('results_prepared')"
   ]
  }
 ],
 "metadata": {
  "kernelspec": {
   "display_name": "Python 3",
   "language": "python",
   "name": "python3"
  },
  "language_info": {
   "codemirror_mode": {
    "name": "ipython",
    "version": 3
   },
   "file_extension": ".py",
   "mimetype": "text/x-python",
   "name": "python",
   "nbconvert_exporter": "python",
   "pygments_lexer": "ipython3",
   "version": "3.9.12"
  }
 },
 "nbformat": 4,
 "nbformat_minor": 5
}
